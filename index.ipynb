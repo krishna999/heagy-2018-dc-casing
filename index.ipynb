{
 "cells": [
  {
   "cell_type": "markdown",
   "metadata": {},
   "source": [
    "# Direct current resistivity with steel-cased wells\n",
    "\n",
    "_Lindsey J. Heagy and Douglas W. Oldenburg_\n",
    "\n",
    "These notebooks were used to perform the analysis and generate the figures shown _\"Direct current resistivity with steel-cased wells\"_ submitted to Geophysical Journal International. \n",
    "\n",
    "## Contents\n",
    " \n",
    "- [DC_Flawed_Steel_Cased_Wells.ipynb](notebooks/DC_Flawed_Steel_Cased_Wells.ipynb): examines the feasibility of using DC resistivity for detecting a flaw in a steel-cased well and investigates the impact of parameters such as the background conductivity on our ability to detect a flaw from data collected at the surface. This notebook was used to produce Figures 1, 2, 4, 5, 6, 9, 10\n",
    "\n",
    "- \n",
    "\n",
    "\n",
    "## Usage\n",
    "\n",
    "To run them locally, you will need to have python installed, preferably through [anaconda](https://www.anaconda.com/download/).\n",
    "\n",
    "You can then clone this reposiroty. From a command line, run\n",
    "\n",
    "```\n",
    "git clone https://github.com/simpeg-research/heagy_2018_emcyl.git\n",
    "```\n",
    "\n",
    "Then `cd` into the `heagy_2018_emcyl`\n",
    "\n",
    "```\n",
    "cd heagy_2018_emcyl\n",
    "```\n",
    "\n",
    "To setup your software environment, we recommend you use the provided conda environment\n",
    "\n",
    "```\n",
    "conda env create -f environment.yml\n",
    "source activate dc-casing-environment\n",
    "```\n",
    "\n",
    "alternatively, you can install dependencies through pypi\n",
    "```\n",
    "pip install -r requirements.txt\n",
    "```\n",
    "\n",
    "You can then launch Jupyter\n",
    "```\n",
    "jupyter notebook\n",
    "```\n",
    "\n",
    "## Citation\n",
    "\n",
    "## Contact\n"
   ]
  }
 ],
 "metadata": {
  "kernelspec": {
   "display_name": "Python 3",
   "language": "python",
   "name": "python3"
  },
  "language_info": {
   "codemirror_mode": {
    "name": "ipython",
    "version": 3
   },
   "file_extension": ".py",
   "mimetype": "text/x-python",
   "name": "python",
   "nbconvert_exporter": "python",
   "pygments_lexer": "ipython3",
   "version": "3.6.4"
  }
 },
 "nbformat": 4,
 "nbformat_minor": 2
}
