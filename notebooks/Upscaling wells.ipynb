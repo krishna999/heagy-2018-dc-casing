{
 "cells": [
  {
   "cell_type": "code",
   "execution_count": 1,
   "metadata": {},
   "outputs": [],
   "source": [
    "import numpy as np\n",
    "import scipy.sparse as sp\n",
    "import matplotlib.pyplot as plt\n",
    "from matplotlib.colors import LogNorm\n",
    "from matplotlib import patches\n",
    "import ipywidgets\n",
    "\n",
    "import discretize\n",
    "from discretize import utils\n",
    "from SimPEG import Utils, Maps\n",
    "from SimPEG.Survey import Data\n",
    "from pymatsolver import Pardiso\n",
    "\n",
    "\n",
    "import casingSimulations as casingSim\n",
    "\n",
    "%matplotlib inline"
   ]
  },
  {
   "cell_type": "code",
   "execution_count": 4,
   "metadata": {},
   "outputs": [],
   "source": [
    "simDir = \"upscaling_wells\""
   ]
  },
  {
   "cell_type": "code",
   "execution_count": 5,
   "metadata": {},
   "outputs": [],
   "source": [
    "casing_l = 1000\n",
    "sigma_back = 0.1"
   ]
  },
  {
   "cell_type": "code",
   "execution_count": 6,
   "metadata": {},
   "outputs": [],
   "source": [
    "casing_t = 10e-3 # 10mm thick casing\n",
    "casing_d = 100e-3 # 10cm diameter\n",
    "\n",
    "model = casingSim.model.CasingInHalfspace(\n",
    "    directory = simDir,\n",
    "    sigma_casing = 5e6,  # conductivity of the casing (S/m)\n",
    "    sigma_back = sigma_back,  # conductivity of the background (S/m)\n",
    "    sigma_inside = sigma_back,  # fluid inside the well has same conductivity as the background\n",
    "    sigma_air = 3e-7,   # conductivity of the air\n",
    "    casing_d = casing_d-casing_t,  # 135mm is outer casing diameter\n",
    "    casing_l = casing_l,\n",
    "    casing_t = casing_t, \n",
    "    src_a = np.r_[0., np.pi, -1.25],  # put the A electrode just below the surface\n",
    "    src_b = np.r_[casing_l, np.pi, -1.25] # put the return electrode at a distance of 2 x length of well away\n",
    ")\n",
    "\n",
    "# adjust the src_a location so it is connected to well\n",
    "model.src_a = np.r_[model.casing_r, np.pi, -1.25]  "
   ]
  },
  {
   "cell_type": "code",
   "execution_count": 7,
   "metadata": {},
   "outputs": [],
   "source": [
    "# parameters defining the core region of the mesh\n",
    "# note that the finest re\n",
    "csx2 = 50.  # cell size in the x-direction in the second uniform region of the mesh (where we measure data)\n",
    "csz = 2.5  # cell size in the z-direction \n",
    "domainx2 = 500  # go out 500m from the well\n",
    "\n",
    "# padding parameters\n",
    "npadx, npadz = 15, 22  # number of padding cells\n",
    "pfx2 = 1.5  # expansion factor for the padding to infinity in the x-direction\n",
    "pfz = 1.4\n",
    "\n",
    "# discretization in theta\n",
    "ncy = 1\n",
    "# nstretchy = 5\n",
    "# stretchfact = 1.5\n",
    "# hy = utils.meshTensor([(1, nstretchy, -stretchfact), (1, ncy), (1, nstretchy, stretchfact)])\n",
    "hy = np.ones(ncy)\n",
    "hy = hy * 2*np.pi/hy.sum()\n",
    "\n",
    "# set up a mesh generator which will build a mesh based on the provided parameters\n",
    "# and casing geometry\n",
    "cylMeshGen = casingSim.CasingMeshGenerator(\n",
    "    directory=simDir,  # directory where we can save things\n",
    "    modelParameters=model,  # casing parameters\n",
    "    npadx=npadx,  # number of padding cells in the x-direction\n",
    "    npadz=npadz,  # number of padding cells in the z-direction\n",
    "    domain_x=domainx2,  # extent of the second uniform region of the mesh \n",
    "    hy=hy,   # cell spacings in the \n",
    "    csx1=model.casing_t/4.,  # use at least 4 cells per across the thickness of the casing\n",
    "    csx2=csx2,  # second core cell size\n",
    "    csz=csz,  # cell size in the z-direction\n",
    "    pfx2=pfx2,  # padding factor to \"infinity\"\n",
    "    pfz=pfz  # padding factor to \"infinity\" for the z-direction\n",
    ")"
   ]
  },
  {
   "cell_type": "code",
   "execution_count": 8,
   "metadata": {},
   "outputs": [
    {
     "data": {
      "text/plain": [
       "<matplotlib.axes._subplots.AxesSubplot at 0x1810e73ba8>"
      ]
     },
     "execution_count": 8,
     "metadata": {},
     "output_type": "execute_result"
    },
    {
     "data": {
      "image/png": "[encoded data removed]",
      "text/plain": [
       "<matplotlib.figure.Figure at 0x1810e73b70>"
      ]
     },
     "metadata": {},
     "output_type": "display_data"
    }
   ],
   "source": [
    "cylMeshGen.mesh.plotGrid()"
   ]
  },
  {
   "cell_type": "code",
   "execution_count": 10,
   "metadata": {},
   "outputs": [],
   "source": [
    "physprops = casingSim.model.PhysicalProperties(cylMeshGen, model)"
   ]
  },
  {
   "cell_type": "code",
   "execution_count": 13,
   "metadata": {
    "scrolled": true
   },
   "outputs": [
    {
     "data": {
      "text/plain": [
       "(-1020, 10)"
      ]
     },
     "execution_count": 13,
     "metadata": {},
     "output_type": "execute_result"
    },
    {
     "data": {
      "image/png": "[encoded data removed]",
      "text/plain": [
       "<matplotlib.figure.Figure at 0x181a1d5da0>"
      ]
     },
     "metadata": {},
     "output_type": "display_data"
    }
   ],
   "source": [
    "# Plot the models\n",
    "xlim = 0.2*np.r_[-1, 1]  # x-limits in meters\n",
    "zlim = np.r_[-casing_l -20, 10]\n",
    "    \n",
    "theta_ind = 0\n",
    "\n",
    "\n",
    "fig, ax = plt.subplots(1, 1)\n",
    "physprops.plot_sigma(\n",
    "    ax=ax, \n",
    "    theta_ind=theta_ind,\n",
    "    pcolorOpts={'norm':LogNorm()},  # plot on a log-scale\n",
    "#         clim = np.r_[1e-6, 1e2]\n",
    ")\n",
    "ax.set_xlim(xlim)\n",
    "ax.set_ylim(zlim)"
   ]
  },
  {
   "cell_type": "code",
   "execution_count": null,
   "metadata": {},
   "outputs": [],
   "source": []
  }
 ],
 "metadata": {
  "kernelspec": {
   "display_name": "Python 3",
   "language": "python",
   "name": "python3"
  },
  "language_info": {
   "codemirror_mode": {
    "name": "ipython",
    "version": 3
   },
   "file_extension": ".py",
   "mimetype": "text/x-python",
   "name": "python",
   "nbconvert_exporter": "python",
   "pygments_lexer": "ipython3",
   "version": "3.6.4"
  }
 },
 "nbformat": 4,
 "nbformat_minor": 2
}
