{
 "cells": [
  {
   "cell_type": "markdown",
   "metadata": {},
   "source": [
    "# DC Source Location\n",
    "\n",
    "[Lindsey Heagy](http://github.com/lheagy)\n",
    "\n",
    "\n",
    "\n",
    "SimPEG and the implementation for electrical and electromagnetic methods is described in ([Cockett et al., 2015](https://doi.org/10.1016/j.cageo.2015.09.015) and [Heagy et al., 2017](https://arxiv.org/abs/1610.00804))."
   ]
  },
  {
   "cell_type": "code",
   "execution_count": 2,
   "metadata": {},
   "outputs": [],
   "source": [
    "import discretize\n",
    "from discretize import utils\n",
    "import numpy as np\n",
    "import scipy.sparse as sp\n",
    "import matplotlib.pyplot as plt\n",
    "from matplotlib.colors import LogNorm\n",
    "import ipywidgets\n",
    "\n",
    "# from SimPEG.EM import TDEM\n",
    "from SimPEG import Utils, Maps\n",
    "\n",
    "import casingSimulations as casingSim\n",
    "\n",
    "from pymatsolver import Pardiso\n",
    "\n",
    "%matplotlib inline"
   ]
  },
  {
   "cell_type": "markdown",
   "metadata": {},
   "source": [
    "##  Parameters\n",
    "\n",
    "To examine the impact of replacing the steel cased well with a solid well, I have run a few simulations using SimPEG and simulating the DC resistivity equations using a finite volume approach on a 3D cylindrical mesh.  \n",
    "\n",
    "The model setup follows . The electrical conductivities used are:\n",
    "- Casing $1\\times 10^6$ S/m\n",
    "- Air $3\\times10^{-7}$ S/m\n",
    "- Background $3\\times10^{-2}$ S/m\n",
    "- Inside the casing - same as background\n",
    "\n",
    "In the first example, the well is 200m long. The thickness of the casing is 12mm. Here, we are interested in examining a top casing source, where one electrode is connected to the top of the casing and a return electrode is some radial distance away on the surface. In the following examples, we will put the return electrode a distance of 2x the length of the well (for the first example, it is 400 m away). For datam we measure the radial electric field along a line $90^\\circ$ from the source wire, starting from the well and measuring out to a distance of 400m away. \n",
    "\n",
    "### Experiments\n",
    "\n",
    "From the base example, there are 3 that are setup, you can select one by changing the `experiment` variable or setting your own values for `casing_l`, `sigma_back` and `sigma_air`."
   ]
  },
  {
   "cell_type": "code",
   "execution_count": 3,
   "metadata": {},
   "outputs": [],
   "source": [
    "simDir = 'DC_target'  # create a simulation directory where results can be saved. "
   ]
  },
  {
   "cell_type": "code",
   "execution_count": 4,
   "metadata": {},
   "outputs": [],
   "source": [
    "casing_l = 1000\n",
    "sigma_back = 1e-1\n",
    "casing_d = 10e-2 #10cm diameter\n",
    "casing_t = 1e-2 #1cm thickness\n",
    "sigma_target = sigma_back\n",
    "target_r = np.r_[0, 25.]\n",
    "target_z = np.r_[-925., -900.]\n",
    "\n",
    "model = casingSim.model.CasingInHalfspaceWithTarget(\n",
    "    directory=simDir,\n",
    "    sigma_casing= 5e6,  # conductivity of the casing (S/m)\n",
    "    sigma_back = sigma_back,  # conductivity of the background (S/m)\n",
    "    sigma_inside = sigma_back,  # fluid inside the well has same conductivity as the background\n",
    "    sigma_air = 1e-4,   # conductivity of the air\n",
    "    casing_d = casing_d-casing_t,  # 10 cm is outer casing diameter\n",
    "    casing_l = casing_l,\n",
    "    casing_t = casing_t, \n",
    "    target_radius = target_r,\n",
    "    target_z = target_z,\n",
    "    src_a = np.r_[0., np.pi, -1.25],  # put the A electrode just below the surface\n",
    "    src_b = np.r_[2*casing_l, np.pi, -1.25] # put the return electrode at a distance of 2 x length of well away\n",
    ")\n",
    "\n",
    "# adjust the src_a location so it is connected to well\n",
    "model.src_a = np.r_[model.casing_r, np.pi, -1.25]  "
   ]
  },
  {
   "cell_type": "code",
   "execution_count": 5,
   "metadata": {},
   "outputs": [
    {
     "data": {
      "text/plain": [
       "{'__class__': 'CasingInHalfspaceWithTarget',\n",
       " 'casing_d': 0.09000000000000001,\n",
       " 'casing_l': 1000.0,\n",
       " 'casing_t': 0.01,\n",
       " 'casing_top': 0.0,\n",
       " 'directory': 'DC_target',\n",
       " 'filename': 'ModelParameters.json',\n",
       " 'mur_back': 1.0,\n",
       " 'mur_casing': 1.0,\n",
       " 'sigma_air': 0.0001,\n",
       " 'sigma_back': 0.1,\n",
       " 'sigma_casing': 5000000.0,\n",
       " 'sigma_inside': 0.1,\n",
       " 'sigma_target': 0.01,\n",
       " 'src_a': [0.045000000000000005, 3.141592653589793, -1.25],\n",
       " 'src_b': [2000.0, 3.141592653589793, -1.25],\n",
       " 'surface_z': 0.0,\n",
       " 'target_radius': [0.0, 25.0],\n",
       " 'target_theta': [0.0, 6.283185307179586],\n",
       " 'target_z': [-925.0, -900.0],\n",
       " 'version': '0.0.5'}"
      ]
     },
     "execution_count": 5,
     "metadata": {},
     "output_type": "execute_result"
    }
   ],
   "source": [
    "# Here we print the parameters being used to set up the simulation\n",
    "model.serialize()"
   ]
  },
  {
   "cell_type": "markdown",
   "metadata": {},
   "source": [
    "## Mesh\n",
    "\n",
    "Here we set up a 3D cylindrical mesh, discretizing in $x$, $\\theta$ and $z$. \n",
    "\n",
    "To discretize in x, we start by defining the finest region of the mesh, ensuring that we have 4 cells across the thickness of the casing. From there, we expand the cell sizes until we reach the second uniform cell size we want to model at (`csx2`). We then use a constant cell spacing of `csx2` until we have meshed out to the end of the domain in which we want to examine data (`domainx2`). Beyond that, we add padding cells to *\"infinity\"*"
   ]
  },
  {
   "cell_type": "code",
   "execution_count": 6,
   "metadata": {},
   "outputs": [],
   "source": [
    "# parameters defining the core region of the mesh\n",
    "# note that the finest re\n",
    "csx2 = 5.  # cell size in the x-direction in the second uniform region of the mesh (where we measure data)\n",
    "csz = 2.5  # cell size in the z-direction \n",
    "domainx2 = 100  # go out 500m from the well\n",
    "\n",
    "# padding parameters\n",
    "npadx, npadz = 15, 16  # number of padding cells\n",
    "pfx2 = 1.4  # expansion factor for the padding to infinity in the x-direction\n",
    "pfz = 1.4\n",
    "\n",
    "# discretization in theta\n",
    "# hy = utils.meshTensor([(1, 2, -1.5), (1, 3), (1, 2, 1.5)])\n",
    "hy = np.ones(1)\n",
    "# hy = np.r_[hy, hy]\n",
    "hy = hy*2*np.pi / hy.sum()\n",
    "\n",
    "# set up a mesh generator which will build a mesh based on the provided parameters\n",
    "# and casing geometry\n",
    "cylMeshGen = casingSim.CasingMeshGenerator(\n",
    "    directory=simDir,  # directory where we can save things\n",
    "    modelParameters=model,  # casing parameters\n",
    "    npadx=npadx,  # number of padding cells in the x-direction\n",
    "    npadz=npadz,  # number of padding cells in the z-direction\n",
    "    domain_x=domainx2,  # extent of the second uniform region of the mesh \n",
    "    hy=hy,   # cell spacings in the \n",
    "    csx1=model.casing_t/4.,  # use at least 4 cells per across the thickness of the casing\n",
    "    csx2=csx2,  # second core cell size\n",
    "    csz=csz,  # cell size in the z-direction\n",
    "    pfx2=pfx2,  # padding factor to \"infinity\"\n",
    "    pfz=pfz  # padding factor to \"infinity\" for the z-direction\n",
    ")"
   ]
  },
  {
   "cell_type": "code",
   "execution_count": 7,
   "metadata": {},
   "outputs": [
    {
     "data": {
      "text/plain": [
       "<matplotlib.axes._subplots.AxesSubplot at 0x108343208>"
      ]
     },
     "execution_count": 7,
     "metadata": {},
     "output_type": "execute_result"
    },
    {
     "data": {
      "image/png": "[encoded data removed]",
      "text/plain": [
       "<matplotlib.figure.Figure at 0x180c166be0>"
      ]
     },
     "metadata": {},
     "output_type": "display_data"
    }
   ],
   "source": [
    "cylMeshGen.mesh.plotGrid()"
   ]
  },
  {
   "cell_type": "code",
   "execution_count": 8,
   "metadata": {},
   "outputs": [],
   "source": [
    "src_theta = model.src_a[1] + hy[0]/2.\n",
    "\n",
    "model.src_a[1] = src_theta\n",
    "model.src_b[1] = src_theta"
   ]
  },
  {
   "cell_type": "code",
   "execution_count": 9,
   "metadata": {},
   "outputs": [],
   "source": [
    "# # Plot the source location\n",
    "\n",
    "# ax = plt.subplot(111, projection='polar')\n",
    "# cylMeshGen.mesh.plotGrid(ax=ax, slice='z')\n",
    "# ax.plot(model.src_a[1], model.src_a[0], 'ro')\n",
    "# ax.plot(model.src_b[1], model.src_b[0], 'rs')\n",
    "# ax.set_ylim([0., 3*model.casing_l])"
   ]
  },
  {
   "cell_type": "code",
   "execution_count": 10,
   "metadata": {},
   "outputs": [
    {
     "data": {
      "text/plain": [
       "{'target_1e+00': <casingSimulations.model.CasingInHalfspaceWithTarget at 0x1811bf7978>,\n",
       " 'target_1e+01': <casingSimulations.model.CasingInHalfspaceWithTarget at 0x1811bf7d68>,\n",
       " 'target_1e+02': <casingSimulations.model.CasingInHalfspaceWithTarget at 0x1811bf75f8>,\n",
       " 'target_1e-01': <casingSimulations.model.CasingInHalfspaceWithTarget at 0x1811bf7fd0>,\n",
       " 'target_1e-02': <casingSimulations.model.CasingInHalfspaceWithTarget at 0x1811bf7a20>,\n",
       " 'target_1e-03': <casingSimulations.model.CasingInHalfspaceWithTarget at 0x1811bf2a58>,\n",
       " 'target_1e-04': <casingSimulations.model.CasingInHalfspaceWithTarget at 0x1811bb4e80>}"
      ]
     },
     "execution_count": 10,
     "metadata": {},
     "output_type": "execute_result"
    }
   ],
   "source": [
    "# put the models in a dictionary for convienence \n",
    "target_sigma = [1e-4, 1e-3, 1e-2, 1e-1, 1e0, 1e1, 1e2]\n",
    "model_names = [\"target_{:1.0e}\".format(sig) for sig in target_sigma]\n",
    "\n",
    "modelDict = {}\n",
    "\n",
    "for name, sig in zip(model_names, target_sigma):\n",
    "    tmp_model = model.copy()\n",
    "    tmp_model.sigma_target = sig\n",
    "    tmp_model.target_radius = np.r_[tmp_model.casing_b + tmp_model.casing_t, 25.]\n",
    "    modelDict[name] = tmp_model\n",
    "    \n",
    "modelDict"
   ]
  },
  {
   "cell_type": "code",
   "execution_count": 11,
   "metadata": {},
   "outputs": [],
   "source": [
    "# Assign physical properties on the mesh\n",
    "physpropsDict = {\n",
    "    key: casingSim.model.PhysicalProperties(cylMeshGen, modelDict[key]) \n",
    "    for key in model_names\n",
    "}"
   ]
  },
  {
   "cell_type": "code",
   "execution_count": 12,
   "metadata": {},
   "outputs": [
    {
     "data": {
      "image/png": "[encoded data removed]",
      "text/plain": [
       "<matplotlib.figure.Figure at 0x1811b90470>"
      ]
     },
     "metadata": {},
     "output_type": "display_data"
    }
   ],
   "source": [
    "# Plot the models\n",
    "xlim = 0.1*np.r_[-1, 1]  # x-limits in meters\n",
    "zlim = np.r_[-1.5*model.casing_l, 10.]  # z-limits in meters. (z-positive up)\n",
    "\n",
    "fig, ax = plt.subplots(1, len(model_names), figsize=(6*len(model_names), 5))\n",
    "if len(model_names) == 1:\n",
    "    ax=[ax]\n",
    "    \n",
    "for a, title in zip(ax, model_names):\n",
    "    pp = physpropsDict[title]\n",
    "    pp.plot_sigma(\n",
    "        ax=a, \n",
    "        pcolorOpts={'norm':LogNorm()}  # plot on a log-scale\n",
    "    )\n",
    "    a.set_title('{} \\n\\n $\\sigma$ = {:1.2e}S/m'.format(title, pp.modelParameters.sigma_casing), fontsize=13)\n",
    "#     cylMeshGen.mesh.plotGrid(ax=a, slice='theta') # uncomment to plot the mesh on top of this\n",
    "    a.set_xlim(xlim)\n",
    "    a.set_ylim(zlim)"
   ]
  },
  {
   "cell_type": "markdown",
   "metadata": {},
   "source": [
    "## Source locations"
   ]
  },
  {
   "cell_type": "code",
   "execution_count": 13,
   "metadata": {},
   "outputs": [],
   "source": [
    "# Set up 4 sources, top casing, top & not coupled, downhole, downhole not coupled\n",
    "\n",
    "src_a = np.vstack([\n",
    "    [model.casing_r, src_theta, -1.25],\n",
    "#     [model.casing_r + 0.1, src_theta, -1.25],\n",
    "#     [model.casing_r, src_theta, -casing_l/2.],\n",
    "#     [0., src_theta, -casing_l/2.],\n",
    "    [model.casing_r, src_theta, -casing_l + 5.],\n",
    "#     [0., src_theta, -casing_l + 5.],\n",
    "#     [0., src_theta, -casing_l - 5.],\n",
    "#     [model.casing_b+cylMeshGen.csx1*2, src_theta, -casing_l + 5.]\n",
    "])\n",
    "\n",
    "src_b = np.ones((src_a.shape[0],1)) * model.src_b\n",
    "\n",
    "src_names = [\n",
    "    \"top casing\",\n",
    "#     \"surface\",\n",
    "#     \"center\", \n",
    "#     \"center, disconnected\",\n",
    "    \"downhole\",\n",
    "#     \"downhole, disconnected\",\n",
    "#     \"below hole\",\n",
    "#     \"outside hole\"\n",
    "]"
   ]
  },
  {
   "cell_type": "markdown",
   "metadata": {
    "collapsed": true
   },
   "source": [
    "## set up a DC simulation"
   ]
  },
  {
   "cell_type": "code",
   "execution_count": 14,
   "metadata": {},
   "outputs": [
    {
     "name": "stdout",
     "output_type": "stream",
     "text": [
      "Homogeneous Dirichlet is the natural BC for this CC discretization.\n",
      "Homogeneous Dirichlet is the natural BC for this CC discretization.\n",
      "Homogeneous Dirichlet is the natural BC for this CC discretization.\n",
      "Homogeneous Dirichlet is the natural BC for this CC discretization.\n",
      "Homogeneous Dirichlet is the natural BC for this CC discretization.\n",
      "Homogeneous Dirichlet is the natural BC for this CC discretization.\n",
      "Homogeneous Dirichlet is the natural BC for this CC discretization.\n"
     ]
    }
   ],
   "source": [
    "simDict = {}\n",
    "for title in model_names:\n",
    "    simDict[title] = casingSim.run.SimulationDC(\n",
    "        modelParameters=modelDict[title], directory=simDir, \n",
    "        meshGenerator=cylMeshGen, src_a=src_a, src_b=src_b\n",
    "    )\n"
   ]
  },
  {
   "cell_type": "code",
   "execution_count": 33,
   "metadata": {},
   "outputs": [
    {
     "name": "stdout",
     "output_type": "stream",
     "text": [
      "--- Running target_1e-04 ---\n",
      "Validating parameters...\n",
      "      max x: 2819.9416722617116, min z: -2909.459170583198, max z: 1909.459170583198, nC: 37570\n",
      "Saved DC_target/simulationParameters.json\n",
      "Starting SimulationDC\n",
      "Using <class 'pymatsolver.direct.Pardiso'> Solver\n",
      "   ... Done. Elapsed time : 0.2826812267303467\n",
      "\n",
      "\n",
      "--- Running target_1e-03 ---\n",
      "Validating parameters...\n",
      "      max x: 2819.9416722617116, min z: -2909.459170583198, max z: 1909.459170583198, nC: 37570\n",
      "Saved DC_target/simulationParameters.json\n",
      "Starting SimulationDC\n",
      "Using <class 'pymatsolver.direct.Pardiso'> Solver\n",
      "   ... Done. Elapsed time : 0.26314377784729004\n",
      "\n",
      "\n",
      "--- Running target_1e-02 ---\n",
      "Validating parameters...\n",
      "      max x: 2819.9416722617116, min z: -2909.459170583198, max z: 1909.459170583198, nC: 37570\n",
      "Saved DC_target/simulationParameters.json\n",
      "Starting SimulationDC\n",
      "Using <class 'pymatsolver.direct.Pardiso'> Solver\n",
      "   ... Done. Elapsed time : 0.2628779411315918\n",
      "\n",
      "\n",
      "--- Running target_1e-01 ---\n",
      "Validating parameters...\n",
      "      max x: 2819.9416722617116, min z: -2909.459170583198, max z: 1909.459170583198, nC: 37570\n",
      "Saved DC_target/simulationParameters.json\n",
      "Starting SimulationDC\n",
      "Using <class 'pymatsolver.direct.Pardiso'> Solver\n",
      "   ... Done. Elapsed time : 0.27193593978881836\n",
      "\n",
      "\n",
      "--- Running target_1e+00 ---\n",
      "Validating parameters...\n",
      "      max x: 2819.9416722617116, min z: -2909.459170583198, max z: 1909.459170583198, nC: 37570\n",
      "Saved DC_target/simulationParameters.json\n",
      "Starting SimulationDC\n",
      "Using <class 'pymatsolver.direct.Pardiso'> Solver\n",
      "   ... Done. Elapsed time : 0.2557203769683838\n",
      "\n",
      "\n",
      "--- Running target_1e+01 ---\n",
      "Validating parameters...\n",
      "      max x: 2819.9416722617116, min z: -2909.459170583198, max z: 1909.459170583198, nC: 37570\n",
      "Saved DC_target/simulationParameters.json\n",
      "Starting SimulationDC\n",
      "Using <class 'pymatsolver.direct.Pardiso'> Solver\n",
      "   ... Done. Elapsed time : 0.26242780685424805\n",
      "\n",
      "\n",
      "--- Running target_1e+02 ---\n",
      "Validating parameters...\n",
      "      max x: 2819.9416722617116, min z: -2909.459170583198, max z: 1909.459170583198, nC: 37570\n",
      "Saved DC_target/simulationParameters.json\n",
      "Starting SimulationDC\n",
      "Using <class 'pymatsolver.direct.Pardiso'> Solver\n",
      "   ... Done. Elapsed time : 0.20241904258728027\n",
      "\n",
      "\n",
      "CPU times: user 3.08 s, sys: 259 ms, total: 3.34 s\n",
      "Wall time: 1.94 s\n"
     ]
    }
   ],
   "source": [
    "%%time\n",
    "fieldsDict = {}\n",
    "for title in model_names:\n",
    "    print('--- Running {} ---'.format(title))\n",
    "    fieldsDict[title] = simDict[title].run()\n",
    "    print('\\n')"
   ]
  },
  {
   "cell_type": "markdown",
   "metadata": {},
   "source": [
    "## Plot Results\n",
    "\n",
    "Here we plot the radial electric field along a line $90^{\\circ}$ from the source. "
   ]
  },
  {
   "cell_type": "code",
   "execution_count": 34,
   "metadata": {},
   "outputs": [],
   "source": [
    "viewer = casingSim.FieldsViewer(\n",
    "    sim_dict=simDict, fields_dict=fieldsDict, primary_key=\"target_{:1.0e}\".format(sigma_back), model_keys=model_names\n",
    ")"
   ]
  },
  {
   "cell_type": "code",
   "execution_count": 35,
   "metadata": {
    "scrolled": false
   },
   "outputs": [
    {
     "data": {
      "application/vnd.jupyter.widget-view+json": {
       "model_id": "85cfb6c47eb64df6a0c5e961dcf5d4bd",
       "version_major": 2,
       "version_minor": 0
      },
      "text/html": [
       "<p>Failed to display Jupyter Widget of type <code>interactive</code>.</p>\n",
       "<p>\n",
       "  If you're reading this message in the Jupyter Notebook or JupyterLab Notebook, it may mean\n",
       "  that the widgets JavaScript is still loading. If this message persists, it\n",
       "  likely means that the widgets JavaScript library is either not installed or\n",
       "  not enabled. See the <a href=\"https://ipywidgets.readthedocs.io/en/stable/user_install.html\">Jupyter\n",
       "  Widgets Documentation</a> for setup instructions.\n",
       "</p>\n",
       "<p>\n",
       "  If you're reading this message in another frontend (for example, a static\n",
       "  rendering on GitHub or <a href=\"https://nbviewer.jupyter.org/\">NBViewer</a>),\n",
       "  it may mean that your frontend doesn't currently support widgets.\n",
       "</p>\n"
      ],
      "text/plain": [
       "interactive(children=(FloatText(value=0.1, description='max_r'), FloatText(value=-10.0, description='min_depth'), FloatText(value=1250.0, description='max_depth'), FloatText(value=0.0, description='clim_min'), FloatText(value=0.0, description='clim_max'), ToggleButtons(description='model_key', options=('target_1e-04', 'target_1e-03', 'target_1e-02', 'target_1e-01', 'target_1e+00', 'target_1e+01', 'target_1e+02', 'all'), value='target_1e-04'), ToggleButtons(description='view', options=('sigma', 'e', 'j', 'phi', 'charge', 'charge_density'), value='sigma'), ToggleButtons(description='prim_sec', options=('total', 'primary', 'secondary', 'percent'), value='total'), IntSlider(value=0, description='src_ind', max=1), Checkbox(value=False, description='show_mesh'), Checkbox(value=False, description='use_aspect'), Checkbox(value=True, description='casing_outline'), Output()), _dom_classes=('widget-interact',))"
      ]
     },
     "metadata": {},
     "output_type": "display_data"
    },
    {
     "data": {
      "text/plain": [
       "<function ipywidgets.widgets.interaction._InteractFactory.__call__.<locals>.<lambda>>"
      ]
     },
     "execution_count": 35,
     "metadata": {},
     "output_type": "execute_result"
    }
   ],
   "source": [
    "viewer.widget_cross_section()"
   ]
  },
  {
   "cell_type": "code",
   "execution_count": 36,
   "metadata": {},
   "outputs": [],
   "source": [
    "mesh = cylMeshGen.mesh"
   ]
  },
  {
   "cell_type": "code",
   "execution_count": 37,
   "metadata": {},
   "outputs": [],
   "source": [
    "def excitation(key, src_ind=0, primary_key='target_1e-01'):\n",
    "    primary_src = simDict[primary_key].survey.srcList[src_ind]\n",
    "    \n",
    "    ep = fieldsDict[primary_key][primary_src, 'e']\n",
    "    ep = mesh.aveF2CCV * ep\n",
    "    ex, ez = discretize.utils.mkvc(ep[:mesh.nC]), discretize.utils.mkvc(ep[mesh.nC:])\n",
    "    \n",
    "    sigma_sec = discretize.utils.mkvc(physpropsDict[key].sigma - physpropsDict[primary_key].sigma)\n",
    "    \n",
    "    jax, jaz = sigma_sec*ex, sigma_sec*ez\n",
    "    jaxV, jazV = mesh.vol*jax, mesh.vol*jaz\n",
    "    Jax, Jaz = np.sum(jaxV), np.sum(jazV)\n",
    "    \n",
    "    return np.sqrt(Jax**2 + Jaz**2)"
   ]
  },
  {
   "cell_type": "code",
   "execution_count": 38,
   "metadata": {},
   "outputs": [
    {
     "name": "stdout",
     "output_type": "stream",
     "text": [
      "1e-04 & 1.23 \\\\\n",
      "1e-03 & 1.21 \\\\\n",
      "1e-02 & 1.10 \\\\\n",
      "1e-01 & 0.00 \\\\\n",
      "1e+00 & 11.04 \\\\\n",
      "1e+01 & 121.44 \\\\\n",
      "1e+02 & 1225.48 \\\\\n"
     ]
    }
   ],
   "source": [
    "for key in model_names:\n",
    "    print(\"{:1.0e} & {:1.2f} {}\".format(modelDict[key].sigma_target, excitation(key, src_ind=1), \"\\\\\\\\\"))\n",
    "#     print(key, excitation(key))"
   ]
  },
  {
   "cell_type": "code",
   "execution_count": 20,
   "metadata": {},
   "outputs": [
    {
     "data": {
      "text/plain": [
       "['target_1e-04',\n",
       " 'target_1e-03',\n",
       " 'target_1e-02',\n",
       " 'target_1e-01',\n",
       " 'target_1e+00',\n",
       " 'target_1e+01',\n",
       " 'target_1e+02']"
      ]
     },
     "execution_count": 20,
     "metadata": {},
     "output_type": "execute_result"
    }
   ],
   "source": [
    "model_names"
   ]
  },
  {
   "cell_type": "code",
   "execution_count": 23,
   "metadata": {},
   "outputs": [],
   "source": [
    "from string import ascii_lowercase"
   ]
  },
  {
   "cell_type": "code",
   "execution_count": 24,
   "metadata": {},
   "outputs": [],
   "source": [
    "from matplotlib import rcParams, ticker\n",
    "rcParams['font.size'] = 12"
   ]
  },
  {
   "cell_type": "code",
   "execution_count": null,
   "metadata": {
    "scrolled": false
   },
   "outputs": [],
   "source": [
    "keys = ['target_{:1.0e}'.format(sig) for sig in [1e-3, 1e1]]\n",
    "fig, ax = plt.subplots(len(keys), 4, figsize=(4*3.5,len(keys)*5))\n",
    "\n",
    "fig.subplots_adjust(bottom=0.1)\n",
    "\n",
    "src_ind = 0\n",
    "\n",
    "max_r = 70\n",
    "min_depth = 825\n",
    "max_depth = 1025\n",
    "\n",
    "zlim = np.r_[-max_depth, -min_depth]\n",
    "xlim = max_r * np.r_[-1., 1.]\n",
    "stream_opts = {\"color\":\"k\", \"arrowsize\":1.5}\n",
    "\n",
    "for i, key in enumerate(keys):\n",
    "    \n",
    "    sigma_out = viewer.plot_cross_section(\n",
    "        ax=ax[i][0], \n",
    "        clim=np.r_[1e-3, 1e7],\n",
    "        xlim=xlim, \n",
    "        zlim=zlim,\n",
    "        view='sigma', \n",
    "        theta_ind=0, \n",
    "        model_key=key, \n",
    "        show_cb=False, \n",
    "        use_aspect=True,\n",
    "        casing_outline=True,\n",
    "        stream_opts=stream_opts,\n",
    "    )\n",
    "    ax[i][0].text(\n",
    "        max_r - 2, -max_depth+10, \n",
    "        \"target: {:1.0e} S/m\".format(float(key.split(\"_\")[-1])), \n",
    "        color='w', fontsize=20, horizontalalignment=\"right\"\n",
    "    )\n",
    "    \n",
    "    charge_out = viewer.plot_cross_section(\n",
    "        ax=ax[i][1], \n",
    "        clim=6e-16 * np.r_[-1, 1],\n",
    "        xlim=xlim, \n",
    "        zlim=zlim,\n",
    "        view='charge_density', \n",
    "        prim_sec='secondary',\n",
    "        theta_ind=0, \n",
    "        model_key=key, \n",
    "        show_cb=False, \n",
    "        use_aspect=True,\n",
    "        casing_outline=True,\n",
    "        stream_opts=stream_opts,\n",
    "    )\n",
    "    \n",
    "    \n",
    "    currents_out = viewer.plot_cross_section(\n",
    "        ax=ax[i][2], \n",
    "        clim= np.r_[1e-7, 1e-3],\n",
    "        xlim=xlim, \n",
    "        zlim=zlim,\n",
    "        view='j', \n",
    "        theta_ind=0, \n",
    "        model_key=key, \n",
    "        show_cb=False, \n",
    "        use_aspect=True,\n",
    "        casing_outline=True,\n",
    "        cb_extend='bottom',\n",
    "        stream_opts=stream_opts,\n",
    "    )\n",
    "    \n",
    "    efields_out = viewer.plot_cross_section(\n",
    "        ax=ax[i][3], \n",
    "        clim= np.r_[1e-6, 1e-3],\n",
    "        xlim=xlim, \n",
    "        zlim=zlim,\n",
    "        view='e', \n",
    "        theta_ind=0, \n",
    "        model_key=key, \n",
    "        show_cb=False, \n",
    "        use_aspect=True,\n",
    "        casing_outline=True,\n",
    "        cb_extend='bottom',\n",
    "        stream_opts=stream_opts,\n",
    "    )\n",
    "    \n",
    "    if i == 0: \n",
    "        for j, a in enumerate(ax[i]):\n",
    "            a.set_xticklabels(['']*len(a.get_xticklabels()))\n",
    "            a.set_xlabel('')\n",
    "            a.set_ylabel('z (m)')\n",
    "            a.set_title('({})'.format(ascii_lowercase[j]))\n",
    "            if j > 0:\n",
    "                a.set_yticklabels(['']*len(a.get_xticklabels()))\n",
    "                a.set_ylabel('')\n",
    "    else:\n",
    "        for j, a in enumerate(ax[i]):\n",
    "            a.set_xlabel('x (m)')\n",
    "            a.set_title('')\n",
    "            a.set_ylabel('z (m)')\n",
    "            if j > 0:\n",
    "                a.set_yticklabels(['']*len(a.get_xticklabels()))\n",
    "                a.set_ylabel('')\n",
    "    \n",
    "#     for a in ax[i]:\n",
    "#         plt.plot()\n",
    "\n",
    "\n",
    "# cbar_ax = fig.add_axes([0.25, -0.01, 0.11, 0.01])\n",
    "# cb_charge = fig.colorbar(charge_out[0], ax=cbar_ax, orientation='horizontal')\n",
    "        \n",
    "plt.tight_layout()\n",
    "\n",
    "for i, out, label in zip(\n",
    "    np.arange(4), \n",
    "    [sigma_out, charge_out, currents_out, efields_out],\n",
    "    ['conductivity (S/m)', 'secondary \\n charge density (C/m$^3$)', 'current density (A/m$^2$)', 'electric field (V/m)'],\n",
    "#     [None, None, 'min', 'min']\n",
    "):\n",
    "    x = ax[1][i].figbox.corners()[0, 0]\n",
    "    cbar_ax = fig.add_axes([x+0.025, -0.01, 0.175, 0.015])\n",
    "    cb = fig.colorbar(\n",
    "        out[0], cbar_ax, orientation=\"horizontal\"\n",
    "    )\n",
    "    cb.set_label(label)\n",
    "    cb.set_ticks([cb.vmin, cb.vmax])\n",
    "    cb.update_ticks()\n",
    "\n",
    "plt.show() \n",
    "\n",
    "fig.savefig('target_physics', bbox_inches=\"tight\", dpi=350)"
   ]
  },
  {
   "cell_type": "code",
   "execution_count": 26,
   "metadata": {},
   "outputs": [
    {
     "name": "stdout",
     "output_type": "stream",
     "text": [
      "target_1e-04   min: -3.2e-11, max: 2.3e-11, min outside casing: -2.9e-11, max outside casing: 2.3e-11\n",
      "target_1e-03   min: -3.2e-11, max: 2.3e-11, min outside casing: -2.9e-11, max outside casing: 2.3e-11\n",
      "target_1e-02   min: -2.8e-11, max: 2.0e-11, min outside casing: -2.6e-11, max outside casing: 2.0e-11\n",
      "target_1e-01   min: 0.0e+00, max: 0.0e+00, min outside casing: 0.0e+00, max outside casing: 0.0e+00\n",
      "target_1e+00   min: -8.1e-11, max: 1.1e-10, min outside casing: -8.1e-11, max outside casing: 1.0e-10\n",
      "target_1e+01   min: -1.4e-10, max: 2.0e-10, min outside casing: -1.4e-10, max outside casing: 1.8e-10\n",
      "target_1e+02   min: -1.5e-10, max: 2.2e-10, min outside casing: -1.5e-10, max outside casing: 2.0e-10\n"
     ]
    }
   ],
   "source": [
    "key = \"target_1e+01\"\n",
    "baseline_key = \"target_1e-01\"\n",
    "\n",
    "for key in model_names: \n",
    "    m = modelDict[key]\n",
    "    src = simDict[key].survey.srcList[0]\n",
    "    charge_density = fieldsDict[key][src, \"charge_density\"]\n",
    "\n",
    "    secondary_charge_density = charge_density - fieldsDict[baseline_key][simDict[baseline_key].survey.srcList[0], \"charge_density\"]\n",
    "\n",
    "    print(\n",
    "         \"{}   min: {:1.1e}, max: {:1.1e}, min outside casing: {:1.1e}, max outside casing: {:1.1e}\".format(\n",
    "            key,\n",
    "            secondary_charge_density.min(), secondary_charge_density.max(), \n",
    "            secondary_charge_density[~m.ind_casing(mesh)].min(), secondary_charge_density[~m.ind_casing(mesh)].max(), \n",
    "        )\n",
    "    )"
   ]
  },
  {
   "cell_type": "code",
   "execution_count": 75,
   "metadata": {},
   "outputs": [
    {
     "data": {
      "text/plain": [
       "6.666666666666667"
      ]
     },
     "execution_count": 75,
     "metadata": {},
     "output_type": "execute_result"
    }
   ],
   "source": [
    "6e-16/9e-17"
   ]
  },
  {
   "cell_type": "code",
   "execution_count": 29,
   "metadata": {},
   "outputs": [],
   "source": [
    "# plot currents in casing\n",
    "\n",
    "epsilon = 1e-16\n",
    "baseline_key = 'target_{:1.0e}'.format(sigma_back)\n",
    "\n",
    "def plot_casing_currents_multisrc(model=baseline_key):\n",
    "\n",
    "    fig, ax = plt.subplots(1, 2, figsize=(10, 4))\n",
    "    ax = discretize.utils.mkvc(ax)\n",
    "\n",
    "    f = fieldsDict[model]\n",
    "    mod = modelDict[model]\n",
    "        \n",
    "    for i, src in enumerate(simDict[model].survey.srcList):\n",
    "        \n",
    "        currents = casingSim.physics.casing_currents(\n",
    "            f[src, 'j'], cylMeshGen.mesh, modelDict[baseline_key]\n",
    "        )\n",
    "        \n",
    "        ax[0].plot(currents['z'][0], -currents['z'][1], label=src_names[i], color=\"C{}\".format(i))\n",
    "        ax[1].plot(currents['z'][0], np.absolute(currents['z'][1]), label=src_names[i], color=\"C{}\".format(i))\n",
    "        \n",
    "            \n",
    "    \n",
    "    [a.set_xlim([0., -casing_l]) for a in ax]\n",
    "    [a.legend() for a in ax]\n",
    "    [a.set_xlabel('z (m)') for a in ax]\n",
    "\n",
    "    ax[0].set_ylabel('Downward-going Current (A)')\n",
    "    ax[1].set_ylabel('Vertical Current Amplitude (A)')\n",
    "    \n",
    "    plt.tight_layout()\n",
    "    plt.show()"
   ]
  },
  {
   "cell_type": "code",
   "execution_count": 30,
   "metadata": {},
   "outputs": [
    {
     "data": {
      "image/png": "[encoded data removed]",
      "text/plain": [
       "<matplotlib.figure.Figure at 0x182041fc18>"
      ]
     },
     "metadata": {},
     "output_type": "display_data"
    }
   ],
   "source": [
    "plot_casing_currents_multisrc()"
   ]
  },
  {
   "cell_type": "code",
   "execution_count": 39,
   "metadata": {},
   "outputs": [],
   "source": [
    "# plot currents in casing\n",
    "\n",
    "epsilon = 1e-16\n",
    "baseline_key = 'target_{:1.0e}'.format(sigma_back)\n",
    "\n",
    "def plot_casing_currents(src_ind=0):\n",
    "\n",
    "    fig, ax = plt.subplots(1, 2, figsize=(10, 4))\n",
    "    ax = discretize.utils.mkvc(ax)\n",
    "\n",
    "    \n",
    "        \n",
    "    for i, key in enumerate(model_names):\n",
    "        \n",
    "        src = simDict[key].survey.srcList[src_ind]\n",
    "        f = fieldsDict[key]\n",
    "        mod = modelDict[key]\n",
    "        \n",
    "        currents = casingSim.physics.casing_currents(\n",
    "            f[src, 'j'], cylMeshGen.mesh, modelDict[baseline_key]\n",
    "        )\n",
    "        \n",
    "        ax[0].plot(currents['z'][0], -currents['z'][1], label=key, color=\"C{}\".format(i))\n",
    "        ax[1].plot(currents['z'][0], np.absolute(currents['z'][1]), label=key, color=\"C{}\".format(i))\n",
    "        \n",
    "            \n",
    "    \n",
    "    [a.set_xlim([0., -casing_l]) for a in ax]\n",
    "    [a.legend() for a in ax]\n",
    "    [a.set_xlabel('z (m)') for a in ax]\n",
    "\n",
    "    ax[0].set_ylabel('Downward-going Current (A)')\n",
    "    ax[1].set_ylabel('Vertical Current Amplitude (A)')\n",
    "    \n",
    "    plt.tight_layout()\n",
    "    plt.show()"
   ]
  },
  {
   "cell_type": "code",
   "execution_count": 40,
   "metadata": {},
   "outputs": [
    {
     "data": {
      "image/png": "[encoded data removed]",
      "text/plain": [
       "<matplotlib.figure.Figure at 0x1811704128>"
      ]
     },
     "metadata": {},
     "output_type": "display_data"
    }
   ],
   "source": [
    "plot_casing_currents()"
   ]
  },
  {
   "cell_type": "code",
   "execution_count": 31,
   "metadata": {},
   "outputs": [],
   "source": [
    "def current_flux(mesh, j, radius=1):\n",
    "    Fx_inds = np.absolute(mesh.gridFx[:,0] - radius) == np.min(np.absolute(mesh.vectorNx - radius))\n",
    "#     Fz_inds = np.absolute(mesh.gridFz[:,0] - radius) == np.min(np.absolute(mesh.vectorCCx - radius))\n",
    "    Fz_inds = (mesh.gridFz[:, 0] > model.casing_b) & (mesh.gridFz[:, 0] <= radius)\n",
    "\n",
    "    jA = utils.sdiag(mesh.area) * j\n",
    "#     jA = j\n",
    "    jA_surface_x = jA[\n",
    "        np.hstack([Fx_inds, np.zeros(mesh.nFy, dtype=bool), np.zeros(mesh.nFz, dtype=bool)])\n",
    "    ].reshape(mesh.vnFx[1], mesh.vnFx[2], order='F')\n",
    "    \n",
    "    jA_surface_z = jA[\n",
    "        np.hstack([np.zeros(mesh.nFx, dtype=bool), np.zeros(mesh.nFy, dtype=bool), Fz_inds])\n",
    "    ].reshape(\n",
    "        int(np.sum((mesh.vectorCCx > model.casing_b) & (mesh.vectorCCx <= radius))),\n",
    "        mesh.vnFz[1], mesh.vnFz[2], order='F'\n",
    "    )\n",
    "\n",
    "    ix = jA_surface_x.sum(0)\n",
    "    iz = jA_surface_z.sum(0).sum(0)\n",
    "    \n",
    "    return ix, iz"
   ]
  },
  {
   "cell_type": "code",
   "execution_count": 32,
   "metadata": {},
   "outputs": [],
   "source": [
    "# # plot currents in casing\n",
    "\n",
    "# epsilon = 1e-16\n",
    "\n",
    "# def plot_formation_currents(src_ind=0, radius=1, ymax=None):\n",
    "   \n",
    "#     src_baseline = simDict['baseline'].survey.srcList[src_ind]\n",
    "\n",
    "#     fig, ax = plt.subplots(1, 2, figsize=(10, 4), dpi=400)\n",
    "#     ax = discretize.utils.mkvc(ax)\n",
    "\n",
    "#     baseline_src = simDict['baseline'].survey.srcList[src_ind]\n",
    "#     ix_baseline = horizontal_current_flux(\n",
    "#         cylMeshGen.mesh, fieldsDict['baseline'][baseline_src, 'j'], radius\n",
    "#     )\n",
    "    \n",
    "#     for i, key in enumerate(model_names):\n",
    "#         f = fieldsDict[key]\n",
    "#         src = simDict[key].survey.srcList[src_ind]\n",
    "        \n",
    "#         ix = horizontal_current_flux(\n",
    "#             cylMeshGen.mesh, fieldsDict[key][src, 'j'], radius\n",
    "#         )\n",
    "        \n",
    "#         ax[0].plot(cylMeshGen.mesh.vectorCCz, ix, label=key, color=\"C{}\".format(i))\n",
    "\n",
    "#         if key != 'baseline':\n",
    "        \n",
    "#             ax[1].plot(\n",
    "#                 cylMeshGen.mesh.vectorCCz, \n",
    "#                 np.absolute(ix-ix_baseline)/(np.absolute(ix_baseline)+epsilon)*100,\n",
    "#                 label=key, color=\"C{}\".format(i)\n",
    "#             )\n",
    "    \n",
    "#     [a.set_xlim([0., -1.25*casing_l]) for a in ax]\n",
    "#     [a.legend() for a in ax]\n",
    "#     [a.set_xlabel('z (m)') for a in ax]\n",
    "    \n",
    "#     if not ymax is not None or ymax !=0:\n",
    "#         ylim = [0, ymax]\n",
    "#         ax[0].set_ylim(ylim)\n",
    "\n",
    "#     ax[0].set_ylabel('Horizontal currents (A)')\n",
    "#     ax[1].set_ylabel('Percent difference from baseline')\n",
    "    \n",
    "#     ax[0].set_title(src_names[src_ind] + ' source \\n\\n Horizontal Current in Formation, r={}'.format(radius))\n",
    "#     ax[1].set_title('Difference from baseline (%)')\n",
    "    \n",
    "    \n",
    "#     plt.tight_layout()\n",
    "#     plt.show()"
   ]
  },
  {
   "cell_type": "code",
   "execution_count": 33,
   "metadata": {},
   "outputs": [],
   "source": [
    "# ipywidgets.interact(\n",
    "#     plot_formation_currents,\n",
    "#     src_ind=ipywidgets.IntSlider(min=0, max=len(src_names)-1, value=0), \n",
    "#     radius=ipywidgets.FloatText(value=10),\n",
    "#     ymax=ipywidgets.FloatText(value=0)\n",
    "# )"
   ]
  },
  {
   "cell_type": "code",
   "execution_count": 34,
   "metadata": {},
   "outputs": [
    {
     "data": {
      "text/plain": [
       "['top casing', 'downhole']"
      ]
     },
     "execution_count": 34,
     "metadata": {},
     "output_type": "execute_result"
    }
   ],
   "source": [
    "src_names"
   ]
  },
  {
   "cell_type": "code",
   "execution_count": 35,
   "metadata": {},
   "outputs": [],
   "source": [
    "from matplotlib import rcParams\n",
    "rcParams['font.size'] = 12"
   ]
  },
  {
   "cell_type": "code",
   "execution_count": null,
   "metadata": {},
   "outputs": [],
   "source": []
  },
  {
   "cell_type": "code",
   "execution_count": 36,
   "metadata": {
    "scrolled": false
   },
   "outputs": [
    {
     "ename": "KeyError",
     "evalue": "'baseline'",
     "output_type": "error",
     "traceback": [
      "\u001b[0;31m---------------------------------------------------------------------------\u001b[0m",
      "\u001b[0;31mKeyError\u001b[0m                                  Traceback (most recent call last)",
      "\u001b[0;32m<ipython-input-36-4fbc02246587>\u001b[0m in \u001b[0;36m<module>\u001b[0;34m()\u001b[0m\n\u001b[1;32m      6\u001b[0m \u001b[0mfig\u001b[0m\u001b[0;34m,\u001b[0m \u001b[0max\u001b[0m \u001b[0;34m=\u001b[0m \u001b[0mplt\u001b[0m\u001b[0;34m.\u001b[0m\u001b[0msubplots\u001b[0m\u001b[0;34m(\u001b[0m\u001b[0;36m1\u001b[0m\u001b[0;34m,\u001b[0m \u001b[0;36m1\u001b[0m\u001b[0;34m,\u001b[0m \u001b[0mfigsize\u001b[0m\u001b[0;34m=\u001b[0m\u001b[0;34m(\u001b[0m\u001b[0;36m4\u001b[0m\u001b[0;34m,\u001b[0m \u001b[0;36m5\u001b[0m\u001b[0;34m)\u001b[0m\u001b[0;34m,\u001b[0m \u001b[0mdpi\u001b[0m\u001b[0;34m=\u001b[0m\u001b[0;36m350\u001b[0m\u001b[0;34m)\u001b[0m\u001b[0;34m\u001b[0m\u001b[0m\n\u001b[1;32m      7\u001b[0m \u001b[0;31m# cylMeshGen.mesh.plotGrid(ax=ax, slice='theta')\u001b[0m\u001b[0;34m\u001b[0m\u001b[0;34m\u001b[0m\u001b[0m\n\u001b[0;32m----> 8\u001b[0;31m out = physpropsDict['baseline'].plot_sigma(\n\u001b[0m\u001b[1;32m      9\u001b[0m     \u001b[0max\u001b[0m\u001b[0;34m=\u001b[0m\u001b[0max\u001b[0m\u001b[0;34m,\u001b[0m\u001b[0;34m\u001b[0m\u001b[0m\n\u001b[1;32m     10\u001b[0m     \u001b[0mpcolorOpts\u001b[0m\u001b[0;34m=\u001b[0m\u001b[0;34m{\u001b[0m\u001b[0;34m'norm'\u001b[0m\u001b[0;34m:\u001b[0m\u001b[0mLogNorm\u001b[0m\u001b[0;34m(\u001b[0m\u001b[0;34m)\u001b[0m\u001b[0;34m,\u001b[0m \u001b[0;34m'cmap'\u001b[0m\u001b[0;34m:\u001b[0m \u001b[0;34m'Greys'\u001b[0m\u001b[0;34m}\u001b[0m\u001b[0;34m,\u001b[0m  \u001b[0;31m# plot on a log-scale\u001b[0m\u001b[0;34m\u001b[0m\u001b[0m\n",
      "\u001b[0;31mKeyError\u001b[0m: 'baseline'"
     ]
    },
    {
     "data": {
      "image/png": "[encoded data removed]",
      "text/plain": [
       "<matplotlib.figure.Figure at 0x183a9dd7f0>"
      ]
     },
     "metadata": {},
     "output_type": "display_data"
    }
   ],
   "source": [
    "# Plot the source location\n",
    "\n",
    "xlim = 0.2 * np.r_[-1, 1]\n",
    "# symbols = ['v', 'v', '>', '>', 'v', 'C3s']\n",
    "\n",
    "fig, ax = plt.subplots(1, 1, figsize=(4, 5), dpi=350)\n",
    "# cylMeshGen.mesh.plotGrid(ax=ax, slice='theta')\n",
    "out = physpropsDict['baseline'].plot_sigma(\n",
    "    ax=ax, \n",
    "    pcolorOpts={'norm':LogNorm(), 'cmap': 'Greys'},  # plot on a log-scale\n",
    "    clim = np.r_[sigma_back, 1e20], \n",
    "    show_cb = False\n",
    ")\n",
    "\n",
    "ax.plot(xlim, np.zeros(2), color='0.2')\n",
    "\n",
    "for i in range(src_a.shape[0]):\n",
    "    if src_a[i, 2] < -10:\n",
    "        label = \"{}: {:1.0f}m depth\".format(\n",
    "            src_names[i], -src_a[i, 2]\n",
    "        )\n",
    "    else:\n",
    "        label = \"{}: {:1.2f}m depth\".format(\n",
    "            src_names[i], -src_a[i, 2]\n",
    "        )\n",
    "    ax.plot(src_a[i, 0], src_a[i, 2], 'o', ms=8, color=\"C{}\".format(i), label=label)\n",
    "    ax.plot(src_b[i, 0], src_b[i, 2], 'o', ms=8, color=\"C{}\".format(i))\n",
    "    \n",
    "ax.legend(loc = 9, bbox_to_anchor=[0.5, 1.4])\n",
    "ax.set_xlim(xlim) #src_b[:, 0].max()])\n",
    "ax.set_ylim([-1.1 * modelDict[model_names[0]].casing_l, 10])\n",
    "ax.set_title('')\n",
    "ax.set_xlabel('x (m)')\n",
    "ax.set_ylabel('y (m)')\n",
    "\n",
    "fig.savefig('electrode_location', bbox_inches=\"tight\")\n"
   ]
  },
  {
   "cell_type": "code",
   "execution_count": null,
   "metadata": {},
   "outputs": [],
   "source": [
    "# # plot currents in casing\n",
    "\n",
    "# epsilon = 1e-16\n",
    "\n",
    "# def plot_formation_currents_multisrc(radius=100, model='baseline'):\n",
    "   \n",
    "#     fig, ax = plt.subplots(3, 1, figsize=(7, 10.5))\n",
    "#     ax = discretize.utils.mkvc(ax)\n",
    "    \n",
    "#     f = fieldsDict[model]\n",
    "    \n",
    "#     for i, src in enumerate(simDict[model].survey.srcList):\n",
    "        \n",
    "#         ix, iz = current_flux(\n",
    "#             cylMeshGen.mesh, fieldsDict[model][src, 'j'], radius\n",
    "#         )\n",
    "        \n",
    "# #         iz = vertical_current_flux(\n",
    "# #             cylMeshGen.mesh, fieldsDict[model][src, 'j'], radius\n",
    "# #         )\n",
    "        \n",
    "# #         ax[0].plot(cylMeshGen.mesh.vectorCCz, ix, label=src_names[i], color=\"C{}\".format(i))\n",
    "#         ax[0].semilogy(cylMeshGen.mesh.vectorCCz, np.abs(ix), label=src_names[i], color=\"C{}\".format(i))\n",
    "#         ax[1].semilogy(cylMeshGen.mesh.vectorNz, np.abs(iz), label=src_names[i], color=\"C{}\".format(i))\n",
    "\n",
    "    \n",
    "#     for a in ax: \n",
    "#         a.set_xlim([0., -1.25*casing_l])\n",
    "#         a.legend() \n",
    "#         a.set_xlabel('z (m)') \n",
    "#         a.set_ylim([6e-5, 1])\n",
    "# #         a.set_ylim([1e-7, 6e-4])\n",
    "\n",
    "\n",
    "#     ax[0].set_ylabel('Horizontal current (A)') \n",
    "#     ax[1].set_ylabel('Vertical current (A)')\n",
    "\n",
    "#     ax[0].set_title('Current density in formation, r={}'.format(radius))\n",
    "# #     ax[1].set_title('')\n",
    "    \n",
    "# #     ax[0].set_ylim([1e-4, 2e-1])\n",
    "# #     ax[0].set_ylim([1e-7, 6e-4])\n",
    "    \n",
    "#     plt.tight_layout()\n",
    "#     plt.show()\n",
    "    \n",
    "#     return ax"
   ]
  },
  {
   "cell_type": "code",
   "execution_count": null,
   "metadata": {},
   "outputs": [],
   "source": []
  },
  {
   "cell_type": "code",
   "execution_count": null,
   "metadata": {},
   "outputs": [],
   "source": [
    "mesh = cylMeshGen.mesh"
   ]
  },
  {
   "cell_type": "code",
   "execution_count": null,
   "metadata": {},
   "outputs": [],
   "source": [
    "model = 'baseline'\n",
    "\n",
    "src = simDict[model].survey.srcList[0]\n",
    "j = mesh.aveF2CCV * fieldsDict[model][src, 'j']\n",
    "print(j.shape)"
   ]
  },
  {
   "cell_type": "code",
   "execution_count": null,
   "metadata": {},
   "outputs": [],
   "source": [
    "mesh.nC*2"
   ]
  },
  {
   "cell_type": "code",
   "execution_count": null,
   "metadata": {},
   "outputs": [],
   "source": [
    "# plot_formation_currents_multisrc(radius=50)"
   ]
  },
  {
   "cell_type": "code",
   "execution_count": null,
   "metadata": {},
   "outputs": [],
   "source": [
    "mesh = cylMeshGen.mesh\n",
    "from string import ascii_lowercase"
   ]
  },
  {
   "cell_type": "code",
   "execution_count": null,
   "metadata": {},
   "outputs": [],
   "source": [
    "# plot currents in casing\n",
    "\n",
    "epsilon = 1e-16\n",
    "\n",
    "def plot_current_density_multisrc(ax=None, radius=50, model='baseline', theta_ind =0):\n",
    "   \n",
    "    if ax is None: \n",
    "        fig, ax = plt.subplots(3, 1, figsize=(7, 10.5), dpi=350)\n",
    "        ax = discretize.utils.mkvc(ax)\n",
    "    \n",
    "    f = fieldsDict[model]\n",
    "    \n",
    "    for i, src in enumerate(simDict[model].survey.srcList):\n",
    "        \n",
    "        x_ind = mesh.vectorCCx - radius == np.min(np.absolute(mesh.vectorCCx - radius))\n",
    "        \n",
    "        print(mesh.vectorCCx[x_ind])\n",
    "        \n",
    "        j = mesh.aveF2CCV * fieldsDict[model][src, 'j']\n",
    "        j = j.reshape((mesh.nC, int(len(j)/mesh.nC)), order='F')\n",
    "        jx = discretize.utils.mkvc(j[:,0].reshape(mesh.vnC, order='F')[x_ind, theta_ind, :])\n",
    "        jz = discretize.utils.mkvc(j[:,1].reshape(mesh.vnC, order='F')[x_ind, theta_ind, :])\n",
    "        jt = np.sqrt(jx**2 + jz**2)\n",
    "        \n",
    "#     ix = jA_surface_x.sum(0)\n",
    "#     iz = jA_surface_z.sum(0).sum(0)\n",
    "    \n",
    "#         ix, iz = current_flux(\n",
    "#             cylMeshGen.mesh, fieldsDict[model][src, 'j'], radius\n",
    "#         )\n",
    "        \n",
    "#         iz = vertical_current_flux(\n",
    "#             cylMeshGen.mesh, fieldsDict[model][src, 'j'], radius\n",
    "#         )\n",
    "        \n",
    "#         ax[0].plot(cylMeshGen.mesh.vectorCCz, ix, label=src_names[i], color=\"C{}\".format(i))\n",
    "        ax[0].semilogy(-cylMeshGen.mesh.vectorCCz, np.abs(jx), label=src_names[i], color=\"C{}\".format(i))\n",
    "        ax[1].semilogy(-cylMeshGen.mesh.vectorCCz, np.abs(jz), label=src_names[i], color=\"C{}\".format(i))\n",
    "        ax[2].semilogy(-cylMeshGen.mesh.vectorCCz, jt, label=src_names[i], color=\"C{}\".format(i))\n",
    "\n",
    "    \n",
    "    for i, a in enumerate(ax): \n",
    "        a.set_xlim([0., 1.5*casing_l])\n",
    "#         a.legend() \n",
    "        a.set_xlabel('depth (m)') \n",
    "        a.set_title('({})'.format(ascii_lowercase[i]))\n",
    "        a.grid('both', linestyle='-', linewidth=0.4, color=[0.8, 0.8, 0.8])\n",
    "\n",
    "#         a.set_ylim([6e-5, 1])\n",
    "#         a.set_ylim([1e-7, 6e-4])\n",
    "\n",
    "    ax[0].legend()\n",
    "\n",
    "\n",
    "    ax[0].set_ylabel('$j_r$ (A/m)') \n",
    "    ax[1].set_ylabel('$j_z$ (A/m)')\n",
    "    ax[2].set_ylabel('$|j|$ (A/m)')\n",
    "\n",
    "#     ax[0].set_title('Current density in formation, r={}'.format(radius))\n",
    "#     ax[1].set_title('')\n",
    "    \n",
    "#     ax[0].set_ylim([1e-4, 2e-1])\n",
    "#     ax[0].set_ylim([1e-7, 6e-4])\n",
    "      \n",
    "    return ax"
   ]
  },
  {
   "cell_type": "code",
   "execution_count": null,
   "metadata": {},
   "outputs": [],
   "source": [
    "fig, ax = plt.subplots(3, 1, figsize=(7, 10.5), dpi=350)\n",
    "\n",
    "ax = plot_current_density_multisrc(ax=ax, radius=50)\n",
    "[a.set_ylim([6e-8, 6e-5]) for a in ax]\n",
    "# [a.set_ylim([1e-6, 1e-5]) for a in ax]\n",
    "\n",
    "# ax[1].set_ylim([1e-9, 1e-1])\n",
    "plt.tight_layout()\n",
    "plt.show()\n",
    "\n",
    "# fig.savefig('electrode_location_currents', dpi=350)"
   ]
  },
  {
   "cell_type": "code",
   "execution_count": null,
   "metadata": {},
   "outputs": [],
   "source": []
  },
  {
   "cell_type": "markdown",
   "metadata": {},
   "source": [
    "## Charges\n",
    "\n",
    "How do the charges change with different casing models?"
   ]
  },
  {
   "cell_type": "markdown",
   "metadata": {
    "collapsed": true
   },
   "source": [
    "### Widget for viewing charges\n",
    "\n",
    "There are 3 panels, the true (left), if we were to replace the well with solid steel (center) and if we choose sigma to preserve the integrated conductance (right). For reference, I have plotted the true casing cross section.\n",
    "\n",
    "The widgets available to you are\n",
    "- **theta_ind**: [0, ntheta slices] Which azimuth should we slice through\n",
    "- **clim_max**: max value on the colorbar so you can saturate it\n",
    "- **max_depth**: max z-limit for the plot\n",
    "- **top**: top of the plot (z)\n",
    "\n",
    "observations:\n",
    "- (sanity checks): in all charges at interface between casing and formation. All positive charges (positive electrode connected to casing\n",
    "- charge distribution more uniform along length of casing for solid steel (also makes sense: better conductor)"
   ]
  },
  {
   "cell_type": "code",
   "execution_count": null,
   "metadata": {},
   "outputs": [],
   "source": [
    "viewer = casingSim.FieldsViewer(\n",
    "    sim_dict=simDict, fields_dict=fieldsDict, model_keys=model_names\n",
    ")"
   ]
  },
  {
   "cell_type": "code",
   "execution_count": null,
   "metadata": {},
   "outputs": [],
   "source": [
    "viewer.widget_cross_section()"
   ]
  },
  {
   "cell_type": "markdown",
   "metadata": {},
   "source": [
    "### Total charge on the casing\n",
    "\n",
    "- integrate the charge on the casing. "
   ]
  },
  {
   "cell_type": "code",
   "execution_count": null,
   "metadata": {},
   "outputs": [],
   "source": [
    "casing_charge = {}\n",
    "for title in model_names:\n",
    "    casing_charge[title] = (\n",
    "        utils.mkvc(simDict[title].fields()[:, 'charge'])\n",
    "    )[modelDict[title].ind_casing(cylMeshGen.mesh)].sum()\n",
    "    print('{:8s}: {:1.8e}'.format(title, casing_charge[title]))"
   ]
  },
  {
   "cell_type": "code",
   "execution_count": null,
   "metadata": {},
   "outputs": [],
   "source": []
  }
 ],
 "metadata": {
  "kernelspec": {
   "display_name": "Python 3",
   "language": "python",
   "name": "python3"
  },
  "language_info": {
   "codemirror_mode": {
    "name": "ipython",
    "version": 3
   },
   "file_extension": ".py",
   "mimetype": "text/x-python",
   "name": "python",
   "nbconvert_exporter": "python",
   "pygments_lexer": "ipython3",
   "version": "3.6.4"
  }
 },
 "nbformat": 4,
 "nbformat_minor": 2
}
